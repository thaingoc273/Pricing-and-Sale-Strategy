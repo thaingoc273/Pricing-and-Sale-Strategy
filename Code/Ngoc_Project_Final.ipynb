{
 "cells": [
  {
   "cell_type": "code",
   "execution_count": 1,
   "id": "c019133d-dbad-4ce0-9b70-02e598099e54",
   "metadata": {},
   "outputs": [],
   "source": [
    "import pandas as pd\n",
    "import numpy as np\n",
    "import matplotlib.pyplot as plt\n",
    "import seaborn as sns\n",
    "from wordcloud import WordCloud, STOPWORDS\n",
    "from collections import Counter\n",
    "import nltk\n",
    "from nltk.corpus import stopwords"
   ]
  },
  {
   "cell_type": "code",
   "execution_count": 2,
   "id": "80a529f6-d5af-43bf-a319-acf0dbce7881",
   "metadata": {},
   "outputs": [],
   "source": [
    "df_merge_all = pd.read_csv('df_merge_all.csv')"
   ]
  },
  {
   "cell_type": "code",
   "execution_count": 3,
   "id": "d432481a-8ab8-4e78-820b-f63e4b39e89c",
   "metadata": {},
   "outputs": [
    {
     "data": {
      "text/html": [
       "<div>\n",
       "<style scoped>\n",
       "    .dataframe tbody tr th:only-of-type {\n",
       "        vertical-align: middle;\n",
       "    }\n",
       "\n",
       "    .dataframe tbody tr th {\n",
       "        vertical-align: top;\n",
       "    }\n",
       "\n",
       "    .dataframe thead th {\n",
       "        text-align: right;\n",
       "    }\n",
       "</style>\n",
       "<table border=\"1\" class=\"dataframe\">\n",
       "  <thead>\n",
       "    <tr style=\"text-align: right;\">\n",
       "      <th></th>\n",
       "      <th>id</th>\n",
       "      <th>id_order</th>\n",
       "      <th>product_quantity</th>\n",
       "      <th>sku</th>\n",
       "      <th>unit_price</th>\n",
       "      <th>date</th>\n",
       "      <th>total_price</th>\n",
       "      <th>order_id</th>\n",
       "      <th>created_date</th>\n",
       "      <th>total_paid</th>\n",
       "      <th>state</th>\n",
       "      <th>price</th>\n",
       "      <th>type</th>\n",
       "      <th>category_new</th>\n",
       "      <th>check_new</th>\n",
       "      <th>name</th>\n",
       "    </tr>\n",
       "  </thead>\n",
       "  <tbody>\n",
       "    <tr>\n",
       "      <th>0</th>\n",
       "      <td>1119109</td>\n",
       "      <td>299539</td>\n",
       "      <td>1</td>\n",
       "      <td>OTT0133</td>\n",
       "      <td>18.99</td>\n",
       "      <td>2017-01-01 00:07:19</td>\n",
       "      <td>18.99</td>\n",
       "      <td>299539</td>\n",
       "      <td>2017-01-01 00:07:19</td>\n",
       "      <td>18.99</td>\n",
       "      <td>Shopping Basket</td>\n",
       "      <td>34.99</td>\n",
       "      <td>11865403</td>\n",
       "      <td>Accessories</td>\n",
       "      <td>Brand new</td>\n",
       "      <td>Otterbox iPhone Case Symmetry 2.0 SE / 5s / 5 ...</td>\n",
       "    </tr>\n",
       "    <tr>\n",
       "      <th>1</th>\n",
       "      <td>1119110</td>\n",
       "      <td>299540</td>\n",
       "      <td>1</td>\n",
       "      <td>LGE0043</td>\n",
       "      <td>399.00</td>\n",
       "      <td>2017-01-01 00:19:45</td>\n",
       "      <td>399.00</td>\n",
       "      <td>299540</td>\n",
       "      <td>2017-01-01 00:19:45</td>\n",
       "      <td>399.00</td>\n",
       "      <td>Shopping Basket</td>\n",
       "      <td>429.00</td>\n",
       "      <td>1296</td>\n",
       "      <td>Monitor</td>\n",
       "      <td>Brand new</td>\n",
       "      <td>27UD58-B LG Monitor 27 \"4K UHD DisplayPort</td>\n",
       "    </tr>\n",
       "    <tr>\n",
       "      <th>2</th>\n",
       "      <td>1119111</td>\n",
       "      <td>299541</td>\n",
       "      <td>1</td>\n",
       "      <td>PAR0071</td>\n",
       "      <td>474.05</td>\n",
       "      <td>2017-01-01 00:20:57</td>\n",
       "      <td>474.05</td>\n",
       "      <td>299541</td>\n",
       "      <td>2017-01-01 00:20:57</td>\n",
       "      <td>474.05</td>\n",
       "      <td>Shopping Basket</td>\n",
       "      <td>699.00</td>\n",
       "      <td>11905404</td>\n",
       "      <td>Accessories</td>\n",
       "      <td>Brand new</td>\n",
       "      <td>Parrot Bebop 2 White + Command FLYPAD and FPV ...</td>\n",
       "    </tr>\n",
       "    <tr>\n",
       "      <th>3</th>\n",
       "      <td>1119112</td>\n",
       "      <td>299542</td>\n",
       "      <td>1</td>\n",
       "      <td>WDT0315</td>\n",
       "      <td>68.39</td>\n",
       "      <td>2017-01-01 00:51:40</td>\n",
       "      <td>68.39</td>\n",
       "      <td>299542</td>\n",
       "      <td>2017-01-01 00:51:40</td>\n",
       "      <td>68.39</td>\n",
       "      <td>Shopping Basket</td>\n",
       "      <td>79.00</td>\n",
       "      <td>12655397</td>\n",
       "      <td>Storage</td>\n",
       "      <td>Brand new</td>\n",
       "      <td>Blue WD 2TB Hard Drive 35 \"Mac and PC</td>\n",
       "    </tr>\n",
       "    <tr>\n",
       "      <th>4</th>\n",
       "      <td>1119113</td>\n",
       "      <td>299543</td>\n",
       "      <td>1</td>\n",
       "      <td>JBL0104</td>\n",
       "      <td>23.74</td>\n",
       "      <td>2017-01-01 01:06:38</td>\n",
       "      <td>23.74</td>\n",
       "      <td>299543</td>\n",
       "      <td>2017-01-01 01:06:38</td>\n",
       "      <td>23.74</td>\n",
       "      <td>Shopping Basket</td>\n",
       "      <td>29.90</td>\n",
       "      <td>5398</td>\n",
       "      <td>Other</td>\n",
       "      <td>Brand new</td>\n",
       "      <td>Gray Bluetooth Speaker JBL GO</td>\n",
       "    </tr>\n",
       "    <tr>\n",
       "      <th>...</th>\n",
       "      <td>...</td>\n",
       "      <td>...</td>\n",
       "      <td>...</td>\n",
       "      <td>...</td>\n",
       "      <td>...</td>\n",
       "      <td>...</td>\n",
       "      <td>...</td>\n",
       "      <td>...</td>\n",
       "      <td>...</td>\n",
       "      <td>...</td>\n",
       "      <td>...</td>\n",
       "      <td>...</td>\n",
       "      <td>...</td>\n",
       "      <td>...</td>\n",
       "      <td>...</td>\n",
       "      <td>...</td>\n",
       "    </tr>\n",
       "    <tr>\n",
       "      <th>264762</th>\n",
       "      <td>1650198</td>\n",
       "      <td>527397</td>\n",
       "      <td>1</td>\n",
       "      <td>JBL0122</td>\n",
       "      <td>42.99</td>\n",
       "      <td>2018-03-14 13:56:38</td>\n",
       "      <td>42.99</td>\n",
       "      <td>527397</td>\n",
       "      <td>2018-03-14 13:56:38</td>\n",
       "      <td>42.99</td>\n",
       "      <td>Place Order</td>\n",
       "      <td>49.95</td>\n",
       "      <td>5384</td>\n",
       "      <td>Accessories</td>\n",
       "      <td>Brand new</td>\n",
       "      <td>JBL T450 BT Bluetooth Headset Black</td>\n",
       "    </tr>\n",
       "    <tr>\n",
       "      <th>264763</th>\n",
       "      <td>1650199</td>\n",
       "      <td>527398</td>\n",
       "      <td>1</td>\n",
       "      <td>JBL0122</td>\n",
       "      <td>42.99</td>\n",
       "      <td>2018-03-14 13:57:25</td>\n",
       "      <td>42.99</td>\n",
       "      <td>527398</td>\n",
       "      <td>2018-03-14 13:57:25</td>\n",
       "      <td>42.99</td>\n",
       "      <td>Shopping Basket</td>\n",
       "      <td>49.95</td>\n",
       "      <td>5384</td>\n",
       "      <td>Accessories</td>\n",
       "      <td>Brand new</td>\n",
       "      <td>JBL T450 BT Bluetooth Headset Black</td>\n",
       "    </tr>\n",
       "    <tr>\n",
       "      <th>264764</th>\n",
       "      <td>1650200</td>\n",
       "      <td>527399</td>\n",
       "      <td>1</td>\n",
       "      <td>PAC0653</td>\n",
       "      <td>141.58</td>\n",
       "      <td>2018-03-14 13:57:34</td>\n",
       "      <td>141.58</td>\n",
       "      <td>527399</td>\n",
       "      <td>2018-03-14 13:57:34</td>\n",
       "      <td>141.58</td>\n",
       "      <td>Shopping Basket</td>\n",
       "      <td>215.98</td>\n",
       "      <td>1433</td>\n",
       "      <td>Storage</td>\n",
       "      <td>Brand new</td>\n",
       "      <td>Samsung SSD 850 expansion kit EVO 250GB + Data...</td>\n",
       "    </tr>\n",
       "    <tr>\n",
       "      <th>264765</th>\n",
       "      <td>1650201</td>\n",
       "      <td>527400</td>\n",
       "      <td>2</td>\n",
       "      <td>APP0698</td>\n",
       "      <td>9.99</td>\n",
       "      <td>2018-03-14 13:57:41</td>\n",
       "      <td>19.98</td>\n",
       "      <td>527400</td>\n",
       "      <td>2018-03-14 13:57:41</td>\n",
       "      <td>19.98</td>\n",
       "      <td>Shopping Basket</td>\n",
       "      <td>25.00</td>\n",
       "      <td>1230</td>\n",
       "      <td>Accessories</td>\n",
       "      <td>Brand new</td>\n",
       "      <td>Apple Lightning Cable Connector to USB 1m Whit...</td>\n",
       "    </tr>\n",
       "    <tr>\n",
       "      <th>264766</th>\n",
       "      <td>1650203</td>\n",
       "      <td>527401</td>\n",
       "      <td>1</td>\n",
       "      <td>APP0927</td>\n",
       "      <td>13.99</td>\n",
       "      <td>2018-03-14 13:58:36</td>\n",
       "      <td>13.99</td>\n",
       "      <td>527401</td>\n",
       "      <td>2018-03-14 13:58:36</td>\n",
       "      <td>18.98</td>\n",
       "      <td>Place Order</td>\n",
       "      <td>35.00</td>\n",
       "      <td>5384</td>\n",
       "      <td>Accessories</td>\n",
       "      <td>Brand new</td>\n",
       "      <td>EarPods Apple Headphones with Remote and Mic (...</td>\n",
       "    </tr>\n",
       "  </tbody>\n",
       "</table>\n",
       "<p>264767 rows × 16 columns</p>\n",
       "</div>"
      ],
      "text/plain": [
       "             id  id_order  product_quantity      sku  unit_price  \\\n",
       "0       1119109    299539                 1  OTT0133       18.99   \n",
       "1       1119110    299540                 1  LGE0043      399.00   \n",
       "2       1119111    299541                 1  PAR0071      474.05   \n",
       "3       1119112    299542                 1  WDT0315       68.39   \n",
       "4       1119113    299543                 1  JBL0104       23.74   \n",
       "...         ...       ...               ...      ...         ...   \n",
       "264762  1650198    527397                 1  JBL0122       42.99   \n",
       "264763  1650199    527398                 1  JBL0122       42.99   \n",
       "264764  1650200    527399                 1  PAC0653      141.58   \n",
       "264765  1650201    527400                 2  APP0698        9.99   \n",
       "264766  1650203    527401                 1  APP0927       13.99   \n",
       "\n",
       "                       date  total_price  order_id         created_date  \\\n",
       "0       2017-01-01 00:07:19        18.99    299539  2017-01-01 00:07:19   \n",
       "1       2017-01-01 00:19:45       399.00    299540  2017-01-01 00:19:45   \n",
       "2       2017-01-01 00:20:57       474.05    299541  2017-01-01 00:20:57   \n",
       "3       2017-01-01 00:51:40        68.39    299542  2017-01-01 00:51:40   \n",
       "4       2017-01-01 01:06:38        23.74    299543  2017-01-01 01:06:38   \n",
       "...                     ...          ...       ...                  ...   \n",
       "264762  2018-03-14 13:56:38        42.99    527397  2018-03-14 13:56:38   \n",
       "264763  2018-03-14 13:57:25        42.99    527398  2018-03-14 13:57:25   \n",
       "264764  2018-03-14 13:57:34       141.58    527399  2018-03-14 13:57:34   \n",
       "264765  2018-03-14 13:57:41        19.98    527400  2018-03-14 13:57:41   \n",
       "264766  2018-03-14 13:58:36        13.99    527401  2018-03-14 13:58:36   \n",
       "\n",
       "        total_paid            state   price      type category_new  check_new  \\\n",
       "0            18.99  Shopping Basket   34.99  11865403  Accessories  Brand new   \n",
       "1           399.00  Shopping Basket  429.00      1296      Monitor  Brand new   \n",
       "2           474.05  Shopping Basket  699.00  11905404  Accessories  Brand new   \n",
       "3            68.39  Shopping Basket   79.00  12655397      Storage  Brand new   \n",
       "4            23.74  Shopping Basket   29.90      5398        Other  Brand new   \n",
       "...            ...              ...     ...       ...          ...        ...   \n",
       "264762       42.99      Place Order   49.95      5384  Accessories  Brand new   \n",
       "264763       42.99  Shopping Basket   49.95      5384  Accessories  Brand new   \n",
       "264764      141.58  Shopping Basket  215.98      1433      Storage  Brand new   \n",
       "264765       19.98  Shopping Basket   25.00      1230  Accessories  Brand new   \n",
       "264766       18.98      Place Order   35.00      5384  Accessories  Brand new   \n",
       "\n",
       "                                                     name  \n",
       "0       Otterbox iPhone Case Symmetry 2.0 SE / 5s / 5 ...  \n",
       "1              27UD58-B LG Monitor 27 \"4K UHD DisplayPort  \n",
       "2       Parrot Bebop 2 White + Command FLYPAD and FPV ...  \n",
       "3                   Blue WD 2TB Hard Drive 35 \"Mac and PC  \n",
       "4                           Gray Bluetooth Speaker JBL GO  \n",
       "...                                                   ...  \n",
       "264762                JBL T450 BT Bluetooth Headset Black  \n",
       "264763                JBL T450 BT Bluetooth Headset Black  \n",
       "264764  Samsung SSD 850 expansion kit EVO 250GB + Data...  \n",
       "264765  Apple Lightning Cable Connector to USB 1m Whit...  \n",
       "264766  EarPods Apple Headphones with Remote and Mic (...  \n",
       "\n",
       "[264767 rows x 16 columns]"
      ]
     },
     "execution_count": 3,
     "metadata": {},
     "output_type": "execute_result"
    }
   ],
   "source": [
    "df_merge_all"
   ]
  },
  {
   "cell_type": "code",
   "execution_count": 7,
   "id": "c74ec37a-81f7-4090-9d70-95c041151d83",
   "metadata": {
    "tags": []
   },
   "outputs": [
    {
     "name": "stderr",
     "output_type": "stream",
     "text": [
      "C:\\Users\\Pham Thi Ngan\\AppData\\Local\\Temp\\ipykernel_760\\1271813287.py:8: UserWarning: FixedFormatter should only be used together with FixedLocator\n",
      "  ax.set_yticklabels([str(int(val/1000000)) + 'M' for val in vals])\n"
     ]
    },
    {
     "data": {
      "image/png": "[encoded data removed]",
      "text/plain": [
       "<Figure size 720x576 with 1 Axes>"
      ]
     },
     "metadata": {
      "needs_background": "light"
     },
     "output_type": "display_data"
    }
   ],
   "source": [
    "plt.subplots(figsize = (10,8))\n",
    "ax = sns.barplot(data = df_merge_all.groupby('state').agg({'total_price': 'sum'}).reset_index(), x = 'state', y = 'total_price')\n",
    "plt.ticklabel_format(style='plain', axis='y') # remove scientific notation for the y axis\n",
    "plt.xlabel('', fontsize = 14)\n",
    "plt.ylabel('', fontsize = 14)\n",
    "plt.title('Total Paid by Status')\n",
    "vals = ax.get_yticks()\n",
    "ax.set_yticklabels([str(int(val/1000000)) + 'M' for val in vals])\n",
    "#ax.set_yticklabels([str(int(val/1000000)) + 'M' for val in vals])\n",
    "sns.despine() # remove the top and right margin, to make your plot prettier "
   ]
  },
  {
   "cell_type": "code",
   "execution_count": 8,
   "id": "75e8b6a0-7d91-44df-8336-d637b64974c1",
   "metadata": {},
   "outputs": [
    {
     "data": {
      "text/html": [
       "<div>\n",
       "<style scoped>\n",
       "    .dataframe tbody tr th:only-of-type {\n",
       "        vertical-align: middle;\n",
       "    }\n",
       "\n",
       "    .dataframe tbody tr th {\n",
       "        vertical-align: top;\n",
       "    }\n",
       "\n",
       "    .dataframe thead th {\n",
       "        text-align: right;\n",
       "    }\n",
       "</style>\n",
       "<table border=\"1\" class=\"dataframe\">\n",
       "  <thead>\n",
       "    <tr style=\"text-align: right;\">\n",
       "      <th></th>\n",
       "      <th>state</th>\n",
       "      <th>total_price</th>\n",
       "    </tr>\n",
       "  </thead>\n",
       "  <tbody>\n",
       "    <tr>\n",
       "      <th>0</th>\n",
       "      <td>Cancelled</td>\n",
       "      <td>4474922.88</td>\n",
       "    </tr>\n",
       "    <tr>\n",
       "      <th>1</th>\n",
       "      <td>Completed</td>\n",
       "      <td>11702834.54</td>\n",
       "    </tr>\n",
       "    <tr>\n",
       "      <th>2</th>\n",
       "      <td>Pending</td>\n",
       "      <td>4280740.16</td>\n",
       "    </tr>\n",
       "    <tr>\n",
       "      <th>3</th>\n",
       "      <td>Place Order</td>\n",
       "      <td>14308464.87</td>\n",
       "    </tr>\n",
       "    <tr>\n",
       "      <th>4</th>\n",
       "      <td>Shopping Basket</td>\n",
       "      <td>85019728.73</td>\n",
       "    </tr>\n",
       "  </tbody>\n",
       "</table>\n",
       "</div>"
      ],
      "text/plain": [
       "             state  total_price\n",
       "0        Cancelled   4474922.88\n",
       "1        Completed  11702834.54\n",
       "2          Pending   4280740.16\n",
       "3      Place Order  14308464.87\n",
       "4  Shopping Basket  85019728.73"
      ]
     },
     "execution_count": 8,
     "metadata": {},
     "output_type": "execute_result"
    }
   ],
   "source": [
    "df_merge_all.groupby('state').agg({'total_price': 'sum'}).reset_index()"
   ]
  },
  {
   "cell_type": "code",
   "execution_count": 10,
   "id": "d7f2f138-62ab-4ed7-9ed8-7fcae514b6bf",
   "metadata": {},
   "outputs": [],
   "source": [
    "df_complete = df_merge_all[df_merge_all.state == 'Completed']"
   ]
  },
  {
   "cell_type": "code",
   "execution_count": 25,
   "id": "0bce6fce-b891-4451-b074-75734eca856c",
   "metadata": {},
   "outputs": [
    {
     "data": {
      "text/plain": [
       "11702834.54"
      ]
     },
     "execution_count": 25,
     "metadata": {},
     "output_type": "execute_result"
    }
   ],
   "source": [
    "df_complete.groupby('id_order')['total_price'].sum().sum() "
   ]
  },
  {
   "cell_type": "code",
   "execution_count": 28,
   "id": "63934e27-afb1-41a2-9c9d-1b4bf8b5205d",
   "metadata": {},
   "outputs": [
    {
     "data": {
      "text/plain": [
       "11812351.249999998"
      ]
     },
     "execution_count": 28,
     "metadata": {},
     "output_type": "execute_result"
    }
   ],
   "source": [
    "(df_complete[['id_order', 'total_paid']]).drop_duplicates()['total_paid'].sum()"
   ]
  },
  {
   "cell_type": "code",
   "execution_count": 83,
   "id": "57acd422-c4d5-4ae2-bbc4-a33ac85aaa5b",
   "metadata": {},
   "outputs": [
    {
     "name": "stderr",
     "output_type": "stream",
     "text": [
      "C:\\Users\\Pham Thi Ngan\\AppData\\Local\\Temp\\ipykernel_760\\2869817790.py:9: UserWarning: FixedFormatter should only be used together with FixedLocator\n",
      "  ax.set_yticklabels([str(int(tick/1000000)) + 'M' for tick in ticks]);\n"
     ]
    },
    {
     "data": {
      "image/png": "[encoded data removed]",
      "text/plain": [
       "<Figure size 864x432 with 1 Axes>"
      ]
     },
     "metadata": {},
     "output_type": "display_data"
    }
   ],
   "source": [
    "sns.set(font_scale=1)\n",
    "plt.figure(figsize=(12,6))\n",
    "sns.set_style(\"whitegrid\")\n",
    "plt.ticklabel_format(style='plain', axis='y')\n",
    "ax = sns.barplot(data= df_complete.groupby('category_new').agg({'total_price': 'sum'}).reset_index(), x = 'category_new', y = 'total_price')\n",
    "ax.set(xlabel=None)\n",
    "ax.set(ylabel=None)\n",
    "ticks = ax.get_yticks()\n",
    "ax.set_yticklabels([str(int(tick/1000000)) + 'M' for tick in ticks]);"
   ]
  },
  {
   "cell_type": "code",
   "execution_count": 31,
   "id": "35d281ce-ffde-497c-bb1d-7b484c89be07",
   "metadata": {},
   "outputs": [
    {
     "data": {
      "text/html": [
       "<div>\n",
       "<style scoped>\n",
       "    .dataframe tbody tr th:only-of-type {\n",
       "        vertical-align: middle;\n",
       "    }\n",
       "\n",
       "    .dataframe tbody tr th {\n",
       "        vertical-align: top;\n",
       "    }\n",
       "\n",
       "    .dataframe thead th {\n",
       "        text-align: right;\n",
       "    }\n",
       "</style>\n",
       "<table border=\"1\" class=\"dataframe\">\n",
       "  <thead>\n",
       "    <tr style=\"text-align: right;\">\n",
       "      <th></th>\n",
       "      <th>total_price</th>\n",
       "    </tr>\n",
       "    <tr>\n",
       "      <th>category_new</th>\n",
       "      <th></th>\n",
       "    </tr>\n",
       "  </thead>\n",
       "  <tbody>\n",
       "    <tr>\n",
       "      <th>Accessories</th>\n",
       "      <td>1209950.39</td>\n",
       "    </tr>\n",
       "    <tr>\n",
       "      <th>Apple Watch</th>\n",
       "      <td>262248.43</td>\n",
       "    </tr>\n",
       "    <tr>\n",
       "      <th>Desktop/Laptop</th>\n",
       "      <td>4885285.02</td>\n",
       "    </tr>\n",
       "    <tr>\n",
       "      <th>Iphone/Ipad/Ipod</th>\n",
       "      <td>1927490.58</td>\n",
       "    </tr>\n",
       "    <tr>\n",
       "      <th>Monitor</th>\n",
       "      <td>620484.94</td>\n",
       "    </tr>\n",
       "    <tr>\n",
       "      <th>Other</th>\n",
       "      <td>940651.84</td>\n",
       "    </tr>\n",
       "    <tr>\n",
       "      <th>Storage</th>\n",
       "      <td>1856723.34</td>\n",
       "    </tr>\n",
       "  </tbody>\n",
       "</table>\n",
       "</div>"
      ],
      "text/plain": [
       "                  total_price\n",
       "category_new                 \n",
       "Accessories        1209950.39\n",
       "Apple Watch         262248.43\n",
       "Desktop/Laptop     4885285.02\n",
       "Iphone/Ipad/Ipod   1927490.58\n",
       "Monitor             620484.94\n",
       "Other               940651.84\n",
       "Storage            1856723.34"
      ]
     },
     "execution_count": 31,
     "metadata": {},
     "output_type": "execute_result"
    }
   ],
   "source": [
    "df_complete.groupby('category_new').agg({'total_price': 'sum'})"
   ]
  },
  {
   "cell_type": "code",
   "execution_count": 59,
   "id": "ed49bfa0-0a92-4068-b3a1-9dfb5c9bdee9",
   "metadata": {},
   "outputs": [
    {
     "data": {
      "text/html": [
       "<div>\n",
       "<style scoped>\n",
       "    .dataframe tbody tr th:only-of-type {\n",
       "        vertical-align: middle;\n",
       "    }\n",
       "\n",
       "    .dataframe tbody tr th {\n",
       "        vertical-align: top;\n",
       "    }\n",
       "\n",
       "    .dataframe thead th {\n",
       "        text-align: right;\n",
       "    }\n",
       "</style>\n",
       "<table border=\"1\" class=\"dataframe\">\n",
       "  <thead>\n",
       "    <tr style=\"text-align: right;\">\n",
       "      <th></th>\n",
       "      <th>category_new</th>\n",
       "      <th>unit_price</th>\n",
       "    </tr>\n",
       "  </thead>\n",
       "  <tbody>\n",
       "    <tr>\n",
       "      <th>0</th>\n",
       "      <td>Accessories</td>\n",
       "      <td>49.736054</td>\n",
       "    </tr>\n",
       "    <tr>\n",
       "      <th>1</th>\n",
       "      <td>Apple Watch</td>\n",
       "      <td>199.676540</td>\n",
       "    </tr>\n",
       "    <tr>\n",
       "      <th>2</th>\n",
       "      <td>Desktop/Laptop</td>\n",
       "      <td>1994.098212</td>\n",
       "    </tr>\n",
       "    <tr>\n",
       "      <th>3</th>\n",
       "      <td>Iphone/Ipad/Ipod</td>\n",
       "      <td>643.569965</td>\n",
       "    </tr>\n",
       "    <tr>\n",
       "      <th>4</th>\n",
       "      <td>Monitor</td>\n",
       "      <td>424.120721</td>\n",
       "    </tr>\n",
       "    <tr>\n",
       "      <th>5</th>\n",
       "      <td>Other</td>\n",
       "      <td>146.037150</td>\n",
       "    </tr>\n",
       "    <tr>\n",
       "      <th>6</th>\n",
       "      <td>Storage</td>\n",
       "      <td>210.270760</td>\n",
       "    </tr>\n",
       "  </tbody>\n",
       "</table>\n",
       "</div>"
      ],
      "text/plain": [
       "       category_new   unit_price\n",
       "0       Accessories    49.736054\n",
       "1       Apple Watch   199.676540\n",
       "2    Desktop/Laptop  1994.098212\n",
       "3  Iphone/Ipad/Ipod   643.569965\n",
       "4           Monitor   424.120721\n",
       "5             Other   146.037150\n",
       "6           Storage   210.270760"
      ]
     },
     "execution_count": 59,
     "metadata": {},
     "output_type": "execute_result"
    }
   ],
   "source": [
    "df_complete.groupby('category_new').agg({'unit_price': 'mean'}).reset_index()"
   ]
  },
  {
   "cell_type": "code",
   "execution_count": 68,
   "id": "a24ffc33-dfcb-4f83-8e07-7ad1f2c55fb9",
   "metadata": {},
   "outputs": [
    {
     "data": {
      "image/png": "[encoded data removed]",
      "text/plain": [
       "<Figure size 864x432 with 1 Axes>"
      ]
     },
     "metadata": {},
     "output_type": "display_data"
    }
   ],
   "source": [
    "sns.set(font_scale=1)\n",
    "plt.figure(figsize=(12,6))\n",
    "sns.set_style(\"whitegrid\")\n",
    "ax = sns.barplot(data= df_complete.groupby('category_new').agg(mean_price = ('unit_price', 'mean')).reset_index(), x = 'category_new', y = 'mean_price')\n",
    "ax.set(xlabel=None)\n",
    "ax.set(ylabel=None);"
   ]
  },
  {
   "cell_type": "code",
   "execution_count": 57,
   "id": "91681a3c-9c76-4354-9163-0da7ae9f419a",
   "metadata": {},
   "outputs": [
    {
     "data": {
      "text/html": [
       "<div>\n",
       "<style scoped>\n",
       "    .dataframe tbody tr th:only-of-type {\n",
       "        vertical-align: middle;\n",
       "    }\n",
       "\n",
       "    .dataframe tbody tr th {\n",
       "        vertical-align: top;\n",
       "    }\n",
       "\n",
       "    .dataframe thead th {\n",
       "        text-align: right;\n",
       "    }\n",
       "</style>\n",
       "<table border=\"1\" class=\"dataframe\">\n",
       "  <thead>\n",
       "    <tr style=\"text-align: right;\">\n",
       "      <th></th>\n",
       "      <th>category_new</th>\n",
       "      <th>unit_price</th>\n",
       "    </tr>\n",
       "  </thead>\n",
       "  <tbody>\n",
       "    <tr>\n",
       "      <th>0</th>\n",
       "      <td>Accessories</td>\n",
       "      <td>49.736054</td>\n",
       "    </tr>\n",
       "    <tr>\n",
       "      <th>1</th>\n",
       "      <td>Apple Watch</td>\n",
       "      <td>199.676540</td>\n",
       "    </tr>\n",
       "    <tr>\n",
       "      <th>2</th>\n",
       "      <td>Desktop/Laptop</td>\n",
       "      <td>1994.098212</td>\n",
       "    </tr>\n",
       "    <tr>\n",
       "      <th>3</th>\n",
       "      <td>Iphone/Ipad/Ipod</td>\n",
       "      <td>643.569965</td>\n",
       "    </tr>\n",
       "    <tr>\n",
       "      <th>4</th>\n",
       "      <td>Monitor</td>\n",
       "      <td>424.120721</td>\n",
       "    </tr>\n",
       "    <tr>\n",
       "      <th>5</th>\n",
       "      <td>Other</td>\n",
       "      <td>146.037150</td>\n",
       "    </tr>\n",
       "    <tr>\n",
       "      <th>6</th>\n",
       "      <td>Storage</td>\n",
       "      <td>210.270760</td>\n",
       "    </tr>\n",
       "  </tbody>\n",
       "</table>\n",
       "</div>"
      ],
      "text/plain": [
       "       category_new   unit_price\n",
       "0       Accessories    49.736054\n",
       "1       Apple Watch   199.676540\n",
       "2    Desktop/Laptop  1994.098212\n",
       "3  Iphone/Ipad/Ipod   643.569965\n",
       "4           Monitor   424.120721\n",
       "5             Other   146.037150\n",
       "6           Storage   210.270760"
      ]
     },
     "execution_count": 57,
     "metadata": {},
     "output_type": "execute_result"
    }
   ],
   "source": [
    "df_complete.groupby('category_new').agg({'unit_price': 'mean'}).reset_index()"
   ]
  },
  {
   "cell_type": "code",
   "execution_count": 79,
   "id": "dc11c3e2-291c-4369-a088-111165c458e1",
   "metadata": {},
   "outputs": [
    {
     "data": {
      "image/png": "[encoded data removed]",
      "text/plain": [
       "<Figure size 864x432 with 1 Axes>"
      ]
     },
     "metadata": {},
     "output_type": "display_data"
    }
   ],
   "source": [
    "sns.set(font_scale=1)\n",
    "plt.figure(figsize=(12,6))\n",
    "sns.set_style(\"whitegrid\")\n",
    "#sns.set_theme(style='white')\n",
    "ax = sns.barplot(data = df_complete.groupby('category_new').agg(total_items = ('product_quantity', 'sum')).reset_index(), x = 'category_new', y = 'total_items')\n",
    "ax.set(xlabel=None)\n",
    "ax.set(ylabel=None)\n",
    "plt.title('Total items sold by categories', fontsize = 16);"
   ]
  },
  {
   "cell_type": "code",
   "execution_count": 88,
   "id": "c34a8a54-97d5-4ee0-983d-5ff1ee625d64",
   "metadata": {},
   "outputs": [
    {
     "name": "stderr",
     "output_type": "stream",
     "text": [
      "C:\\Users\\Pham Thi Ngan\\AppData\\Local\\Temp\\ipykernel_760\\1981638646.py:1: SettingWithCopyWarning: \n",
      "A value is trying to be set on a copy of a slice from a DataFrame.\n",
      "Try using .loc[row_indexer,col_indexer] = value instead\n",
      "\n",
      "See the caveats in the documentation: https://pandas.pydata.org/pandas-docs/stable/user_guide/indexing.html#returning-a-view-versus-a-copy\n",
      "  df_complete.loc[:,'discount_abs'] = df_complete['price'] - df_complete['unit_price']\n",
      "C:\\Users\\Pham Thi Ngan\\AppData\\Local\\Temp\\ipykernel_760\\1981638646.py:2: SettingWithCopyWarning: \n",
      "A value is trying to be set on a copy of a slice from a DataFrame.\n",
      "Try using .loc[row_indexer,col_indexer] = value instead\n",
      "\n",
      "See the caveats in the documentation: https://pandas.pydata.org/pandas-docs/stable/user_guide/indexing.html#returning-a-view-versus-a-copy\n",
      "  df_complete.loc[:,'discount_per'] = (df_complete['price'] - df_complete['unit_price'])/df_complete['price']*100\n"
     ]
    }
   ],
   "source": [
    "df_complete.loc[:,'discount_abs'] = df_complete['price'] - df_complete['unit_price']\n",
    "df_complete.loc[:,'discount_per'] = (df_complete['price'] - df_complete['unit_price'])/df_complete['price']*100"
   ]
  },
  {
   "cell_type": "code",
   "execution_count": 91,
   "id": "e9026885-3b18-41af-9a3e-b143004b5b1e",
   "metadata": {},
   "outputs": [
    {
     "name": "stderr",
     "output_type": "stream",
     "text": [
      "C:\\Users\\Pham Thi Ngan\\AppData\\Local\\Temp\\ipykernel_760\\3447275503.py:1: SettingWithCopyWarning: \n",
      "A value is trying to be set on a copy of a slice from a DataFrame.\n",
      "Try using .loc[row_indexer,col_indexer] = value instead\n",
      "\n",
      "See the caveats in the documentation: https://pandas.pydata.org/pandas-docs/stable/user_guide/indexing.html#returning-a-view-versus-a-copy\n",
      "  df_complete['discount_true'] = np.where(df_complete.discount_per>2, 'Discount', 'No Discount')\n"
     ]
    }
   ],
   "source": [
    "df_complete['discount_true'] = np.where(df_complete.discount_per>2, 'Discount', 'No Discount')"
   ]
  },
  {
   "cell_type": "code",
   "execution_count": 100,
   "id": "c11d6eda-e357-40e4-bbff-936b3b1513de",
   "metadata": {},
   "outputs": [
    {
     "name": "stderr",
     "output_type": "stream",
     "text": [
      "D:\\Anacoda3\\lib\\site-packages\\seaborn\\_decorators.py:36: FutureWarning: Pass the following variable as a keyword arg: x. From version 0.12, the only valid positional argument will be `data`, and passing other arguments without an explicit keyword will result in an error or misinterpretation.\n",
      "  warnings.warn(\n"
     ]
    },
    {
     "data": {
      "text/plain": [
       "<AxesSubplot:xlabel='discount_true', ylabel='count'>"
      ]
     },
     "execution_count": 100,
     "metadata": {},
     "output_type": "execute_result"
    },
    {
     "data": {
      "image/png": "[encoded data removed]",
      "text/plain": [
       "<Figure size 432x576 with 1 Axes>"
      ]
     },
     "metadata": {},
     "output_type": "display_data"
    }
   ],
   "source": [
    "plt.figure(figsize=(6,8))\n",
    "sns.countplot(df_complete.discount_true)"
   ]
  },
  {
   "cell_type": "code",
   "execution_count": 101,
   "id": "2a1c1da5-8b33-419d-9f4d-ac174930abb0",
   "metadata": {},
   "outputs": [
    {
     "data": {
      "text/plain": [
       "<AxesSubplot:xlabel='discount_true', ylabel='sku'>"
      ]
     },
     "execution_count": 101,
     "metadata": {},
     "output_type": "execute_result"
    },
    {
     "data": {
      "image/png": "[encoded data removed]",
      "text/plain": [
       "<Figure size 432x576 with 1 Axes>"
      ]
     },
     "metadata": {},
     "output_type": "display_data"
    }
   ],
   "source": [
    "plt.figure(figsize=(6,8))\n",
    "sns.barplot(data = df_complete.groupby('discount_true').agg({'sku':'nunique'}).reset_index(), x = 'discount_true', y = 'sku')"
   ]
  },
  {
   "cell_type": "code",
   "execution_count": 98,
   "id": "369f07d2-6956-450f-b7ab-f92a0a835ead",
   "metadata": {},
   "outputs": [
    {
     "data": {
      "text/plain": [
       "5342"
      ]
     },
     "execution_count": 98,
     "metadata": {},
     "output_type": "execute_result"
    }
   ],
   "source": [
    "df_complete.sku.nunique()"
   ]
  },
  {
   "cell_type": "code",
   "execution_count": 108,
   "id": "31b3584c-c081-4c5c-ba4e-cbd9efa371b8",
   "metadata": {},
   "outputs": [
    {
     "name": "stderr",
     "output_type": "stream",
     "text": [
      "C:\\Users\\Pham Thi Ngan\\AppData\\Local\\Temp\\ipykernel_760\\3884367014.py:1: SettingWithCopyWarning: \n",
      "A value is trying to be set on a copy of a slice from a DataFrame.\n",
      "Try using .loc[row_indexer,col_indexer] = value instead\n",
      "\n",
      "See the caveats in the documentation: https://pandas.pydata.org/pandas-docs/stable/user_guide/indexing.html#returning-a-view-versus-a-copy\n",
      "  df_complete['created_date'] = pd.to_datetime(df_complete['created_date'] )\n",
      "C:\\Users\\Pham Thi Ngan\\AppData\\Local\\Temp\\ipykernel_760\\3884367014.py:3: FutureWarning: Series.dt.weekofyear and Series.dt.week have been deprecated. Please use Series.dt.isocalendar().week instead.\n",
      "  week = df_complete['created_date'].dt.week,\n"
     ]
    }
   ],
   "source": [
    "df_complete['created_date'] = pd.to_datetime(df_complete['created_date'] )\n",
    "df_complete = df_complete.assign(month_year = df_complete['created_date'].dt.to_period(freq = 'M'),\n",
    "                  week = df_complete['created_date'].dt.week,\n",
    "                  year = df_complete['created_date'].dt.year,\n",
    "                  day = df_complete['created_date'].dt.date)"
   ]
  },
  {
   "cell_type": "code",
   "execution_count": 134,
   "id": "f733c5a2-f315-4968-98af-309129ea049d",
   "metadata": {},
   "outputs": [
    {
     "data": {
      "text/plain": [
       "<matplotlib.legend.Legend at 0x236a2ddf0d0>"
      ]
     },
     "execution_count": 134,
     "metadata": {},
     "output_type": "execute_result"
    },
    {
     "data": {
      "image/png": "[encoded data removed]",
      "text/plain": [
       "<Figure size 864x576 with 1 Axes>"
      ]
     },
     "metadata": {},
     "output_type": "display_data"
    }
   ],
   "source": [
    "plt.figure(figsize=(12,8))\n",
    "ax = sns.pointplot(data = df_complete.groupby(['month_year', 'category_new']).agg(total_revenue = ('total_price','sum')).reset_index(), x = 'month_year', y = 'total_revenue', hue = 'category_new', kind='point')\n",
    "handles, labels  =  ax.get_legend_handles_labels()\n",
    "ax.legend(handles, ['Acc', 'Watch', 'Desk', 'Iphone', 'Monit', 'Other', 'Stor'], title = 'Category')"
   ]
  }
 ],
 "metadata": {
  "kernelspec": {
   "display_name": "Python 3 (ipykernel)",
   "language": "python",
   "name": "python3"
  },
  "language_info": {
   "codemirror_mode": {
    "name": "ipython",
    "version": 3
   },
   "file_extension": ".py",
   "mimetype": "text/x-python",
   "name": "python",
   "nbconvert_exporter": "python",
   "pygments_lexer": "ipython3",
   "version": "3.9.12"
  }
 },
 "nbformat": 4,
 "nbformat_minor": 5
}
